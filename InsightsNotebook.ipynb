{
 "cells": [
  {
   "cell_type": "markdown",
   "metadata": {},
   "source": [
    "# Exemplos Insights API\n",
    "\n",
    "### Inicializando a Python SDK"
   ]
  },
  {
   "cell_type": "code",
   "execution_count": 79,
   "metadata": {
    "collapsed": false,
    "scrolled": true
   },
   "outputs": [
    {
     "data": {
      "text/plain": [
       "<facebookads.api.FacebookAdsApi at 0x10525b0f0>"
      ]
     },
     "execution_count": 79,
     "metadata": {},
     "output_type": "execute_result"
    }
   ],
   "source": [
    "import os\n",
    "import datetime\n",
    "from facebookads.api import FacebookAdsApi\n",
    "\n",
    "my_app_id = os.environ['FB_APP_ID']\n",
    "my_app_secret = os.environ['FB_APP_SECRET']\n",
    "my_access_token = os.environ['FB_ACCESS_TOKEN']\n",
    "FacebookAdsApi.init(my_app_id, my_app_secret, my_access_token)"
   ]
  },
  {
   "cell_type": "markdown",
   "metadata": {},
   "source": [
    "## Obtendo dados de uma Ad account"
   ]
  },
  {
   "cell_type": "markdown",
   "metadata": {},
   "source": [
    "### https://graph.facebook.com/v2.8/act_755212577884468/insights\n",
    "**PATH**: /**ad_account_id**/insights"
   ]
  },
  {
   "cell_type": "code",
   "execution_count": 80,
   "metadata": {
    "collapsed": false,
    "scrolled": true
   },
   "outputs": [
    {
     "name": "stdout",
     "output_type": "stream",
     "text": [
      "[<AdsInsights> {\n",
      "    \"account_id\": \"755212577884468\",\n",
      "    \"date_start\": \"2016-09-22\",\n",
      "    \"date_stop\": \"2016-10-21\",\n",
      "    \"impressions\": \"120216\",\n",
      "    \"spend\": \"725.67\"\n",
      "}]\n"
     ]
    }
   ],
   "source": [
    "from facebookads.adobjects.adaccount import AdAccount\n",
    "from facebookads.adobjects.adsinsights import AdsInsights\n",
    "\n",
    "ad_account = AdAccount(fbid='act_755212577884468')\n",
    "params = {\n",
    "}\n",
    "\n",
    "stats = ad_account.get_insights(params=params)\n",
    "print(stats)"
   ]
  },
  {
   "cell_type": "markdown",
   "metadata": {},
   "source": [
    "## Parâmetros básicos (\"level\", \"field\", \"time_range\")\n",
    "### https://graph.facebook.com/v2.8/6053021120067/insights?level=ad&fields=impressions,unique_clicks,reach&time_range={\"since\":\"2016-10-07\",\"until\":\"2016-10-21\"}\n",
    "**PATH**: /**ad_set_id**/insights\n",
    "\n",
    "**PARAMS**:\n",
    "* level=[campaign,adset,ad]\n",
    "* fields=[impressions,unique_clicks,reach,...]\n",
    "* time_range={\"since\":\"2016-10-07\",\"until\":\"2016-10-21\"}\n"
   ]
  },
  {
   "cell_type": "code",
   "execution_count": 81,
   "metadata": {
    "collapsed": false
   },
   "outputs": [
    {
     "name": "stdout",
     "output_type": "stream",
     "text": [
      "[<AdsInsights> {\n",
      "    \"date_start\": \"2016-10-14\",\n",
      "    \"date_stop\": \"2016-10-21\",\n",
      "    \"impressions\": \"21863\",\n",
      "    \"reach\": \"18588\",\n",
      "    \"unique_clicks\": \"640\"\n",
      "}, <AdsInsights> {\n",
      "    \"date_start\": \"2016-10-14\",\n",
      "    \"date_stop\": \"2016-10-21\",\n",
      "    \"impressions\": \"3331\",\n",
      "    \"reach\": \"3165\",\n",
      "    \"unique_clicks\": \"82\"\n",
      "}, <AdsInsights> {\n",
      "    \"date_start\": \"2016-10-14\",\n",
      "    \"date_stop\": \"2016-10-21\",\n",
      "    \"impressions\": \"20191\",\n",
      "    \"reach\": \"16660\",\n",
      "    \"unique_clicks\": \"491\"\n",
      "}]\n"
     ]
    }
   ],
   "source": [
    "from facebookads.adobjects.adset import AdSet\n",
    "from facebookads.adobjects.adsinsights import AdsInsights\n",
    "import datetime\n",
    "\n",
    "today = datetime.date.today()\n",
    "start_time = str(today - datetime.timedelta(weeks=1))\n",
    "end_time = str(today)\n",
    "\n",
    "adset = AdSet(fbid='6053021120067')\n",
    "\n",
    "params = {\n",
    "    'level': AdsInsights.Level.ad,\n",
    "    'fields': [\n",
    "        AdsInsights.Field.impressions,\n",
    "        AdsInsights.Field.unique_clicks,\n",
    "        AdsInsights.Field.reach,\n",
    "    ],\n",
    "    'time_range': {\n",
    "        'since': start_time,\n",
    "        'until': end_time,\n",
    "    },\n",
    "}\n",
    "\n",
    "insights = adset.get_insights(params=params)\n",
    "print(insights)"
   ]
  },
  {
   "cell_type": "markdown",
   "metadata": {},
   "source": [
    "## Breakdowns\n",
    "### https://graph.facebook.com/v2.8/6048749323267/insights?breakdowns=[\"age\",\"gender\"]\n",
    "\n",
    "\n",
    "**PATH**: /**campaign_id**/insights\n",
    "\n",
    "**PARAMS**:\n",
    "* breakdowns=[age,gender,...]"
   ]
  },
  {
   "cell_type": "code",
   "execution_count": 87,
   "metadata": {
    "collapsed": false
   },
   "outputs": [
    {
     "name": "stdout",
     "output_type": "stream",
     "text": [
      "9\n",
      "[<AdsInsights> {\n",
      "    \"account_id\": \"755212577884468\",\n",
      "    \"campaign_id\": \"6048749323267\",\n",
      "    \"date_start\": \"2016-10-19\",\n",
      "    \"date_stop\": \"2016-10-19\",\n",
      "    \"impressions\": \"7650\",\n",
      "    \"placement\": \"desktop_feed\",\n",
      "    \"spend\": \"51.09\"\n",
      "}, <AdsInsights> {\n",
      "    \"account_id\": \"755212577884468\",\n",
      "    \"campaign_id\": \"6048749323267\",\n",
      "    \"date_start\": \"2016-10-19\",\n",
      "    \"date_stop\": \"2016-10-19\",\n",
      "    \"impressions\": \"575\",\n",
      "    \"placement\": \"right_hand\",\n",
      "    \"spend\": \"0.16\"\n",
      "}, <AdsInsights> {\n",
      "    \"account_id\": \"755212577884468\",\n",
      "    \"campaign_id\": \"6048749323267\",\n",
      "    \"date_start\": \"2016-10-19\",\n",
      "    \"date_stop\": \"2016-10-19\",\n",
      "    \"impressions\": \"3998\",\n",
      "    \"placement\": \"mobile_feed\",\n",
      "    \"spend\": \"21.49\"\n",
      "}, <AdsInsights> {\n",
      "    \"account_id\": \"755212577884468\",\n",
      "    \"campaign_id\": \"6048749323267\",\n",
      "    \"date_start\": \"2016-10-20\",\n",
      "    \"date_stop\": \"2016-10-20\",\n",
      "    \"impressions\": \"10782\",\n",
      "    \"placement\": \"desktop_feed\",\n",
      "    \"spend\": \"86.3\"\n",
      "}, <AdsInsights> {\n",
      "    \"account_id\": \"755212577884468\",\n",
      "    \"campaign_id\": \"6048749323267\",\n",
      "    \"date_start\": \"2016-10-20\",\n",
      "    \"date_stop\": \"2016-10-20\",\n",
      "    \"impressions\": \"446\",\n",
      "    \"placement\": \"right_hand\",\n",
      "    \"spend\": \"0.1\"\n",
      "}, <AdsInsights> {\n",
      "    \"account_id\": \"755212577884468\",\n",
      "    \"campaign_id\": \"6048749323267\",\n",
      "    \"date_start\": \"2016-10-20\",\n",
      "    \"date_stop\": \"2016-10-20\",\n",
      "    \"impressions\": \"8961\",\n",
      "    \"placement\": \"mobile_feed\",\n",
      "    \"spend\": \"45.45\"\n",
      "}, <AdsInsights> {\n",
      "    \"account_id\": \"755212577884468\",\n",
      "    \"campaign_id\": \"6048749323267\",\n",
      "    \"date_start\": \"2016-10-21\",\n",
      "    \"date_stop\": \"2016-10-21\",\n",
      "    \"impressions\": \"3214\",\n",
      "    \"placement\": \"desktop_feed\",\n",
      "    \"spend\": \"23.79\"\n",
      "}, <AdsInsights> {\n",
      "    \"account_id\": \"755212577884468\",\n",
      "    \"campaign_id\": \"6048749323267\",\n",
      "    \"date_start\": \"2016-10-21\",\n",
      "    \"date_stop\": \"2016-10-21\",\n",
      "    \"impressions\": \"27\",\n",
      "    \"placement\": \"right_hand\",\n",
      "    \"spend\": \"0\"\n",
      "}, <AdsInsights> {\n",
      "    \"account_id\": \"755212577884468\",\n",
      "    \"campaign_id\": \"6048749323267\",\n",
      "    \"date_start\": \"2016-10-21\",\n",
      "    \"date_stop\": \"2016-10-21\",\n",
      "    \"impressions\": \"9732\",\n",
      "    \"placement\": \"mobile_feed\",\n",
      "    \"spend\": \"42.13\"\n",
      "}]\n"
     ]
    }
   ],
   "source": [
    "from facebookads.adobjects.campaign import Campaign\n",
    "from facebookads.adobjects.adsinsights import AdsInsights\n",
    "\n",
    "campaign = Campaign(fbid=6048749323267)\n",
    "\n",
    "params = {\n",
    "    'date_preset': AdsInsights.DatePreset.last_7_days,\n",
    "    'time_increment': 1,\n",
    "    'breakdowns': [\n",
    "        AdsInsights.Breakdowns.placement,\n",
    "    ],\n",
    "}\n",
    "\n",
    "params2 = {\n",
    "    'breakdowns': [\n",
    "        AdsInsights.Breakdowns.age,\n",
    "        AdsInsights.Breakdowns.gender,\n",
    "    ],\n",
    "    'field': 'campaign_name',\n",
    "}\n",
    "\n",
    "insights = list(campaign.get_insights(params=params))\n",
    "print(len(insights))\n",
    "print(insights)"
   ]
  },
  {
   "cell_type": "markdown",
   "metadata": {},
   "source": [
    "## Plot Placement Breakdown Graph"
   ]
  },
  {
   "cell_type": "code",
   "execution_count": 88,
   "metadata": {
    "collapsed": false
   },
   "outputs": [
    {
     "name": "stdout",
     "output_type": "stream",
     "text": [
      "[[7650, 10782, 3214], [575, 446, 27], [3998, 8961, 9732]]\n"
     ]
    }
   ],
   "source": [
    "get_imps = lambda x: [int(i['impressions']) for i in insights[x::3]]\n",
    "\n",
    "breakdowns = [get_imps(0), get_imps(1), get_imps(2)]\n",
    "dates = [s['date_start'] for s in insights[0::3]]\n",
    "print(breakdowns)"
   ]
  },
  {
   "cell_type": "code",
   "execution_count": 89,
   "metadata": {
    "collapsed": false
   },
   "outputs": [
    {
     "data": {
      "image/png": "[encoded data removed]",
      "text/plain": [
       "<matplotlib.figure.Figure at 0x1057e6be0>"
      ]
     },
     "metadata": {},
     "output_type": "display_data"
    },
    {
     "name": "stdout",
     "output_type": "stream",
     "text": [
      "['desktop_feed', 'right_hand', 'mobile_feed']\n"
     ]
    }
   ],
   "source": [
    "import matplotlib.pyplot as plt\n",
    "import numpy as np\n",
    "\n",
    "\n",
    "\n",
    "n = 3\n",
    "x = np.arange(n)\n",
    "width = 0.20\n",
    "fig, ax = plt.subplots()\n",
    "\n",
    "colors = ['b', 'r', 'y']\n",
    "for i, bdown in enumerate(breakdowns):\n",
    "    ax.bar(x + width * (i + 1), bdown, width, color=colors[i])\n",
    "ax.set_xticks(x + width)\n",
    "ax.set_xticklabels(dates)\n",
    "plt.show()\n",
    "print([i['placement'] for i in insights[0:3]])"
   ]
  },
  {
   "cell_type": "markdown",
   "metadata": {},
   "source": [
    "## Filtering\n",
    "### https://graph.facebook.com/v2.8/act_755212577884468/insights?filtering=[{\"field\":\"campaign.name\",\"operator\":\"CONTAIN\", \"value\":\"Webinar\"},{\"field\":\"objective\",\"operator\":\"CONTAIN\", \"value\":\"EVENT_RESPONSES\"}]'\n",
    "\n",
    "**PARAMS**:\n",
    "* filtering=[filter1, filter2, ...]\n",
    "* filter={field,operator,value}"
   ]
  },
  {
   "cell_type": "code",
   "execution_count": 92,
   "metadata": {
    "collapsed": false
   },
   "outputs": [
    {
     "name": "stdout",
     "output_type": "stream",
     "text": [
      "<AdReportRun> {\n",
      "    \"account_id\": \"755212577884468\",\n",
      "    \"async_percent_completion\": 0,\n",
      "    \"async_status\": \"Job Started\",\n",
      "    \"id\": \"6053174580467\",\n",
      "    \"is_running\": true,\n",
      "    \"report_run_id\": \"6053174580467\",\n",
      "    \"time_ref\": 1477075208\n",
      "}\n"
     ]
    }
   ],
   "source": [
    "from facebookads.adobjects.adaccount import AdAccount\n",
    "from facebookads.adobjects.adsinsights import AdsInsights\n",
    "\n",
    "ad_account = AdAccount(fbid='act_755212577884468')\n",
    "params = {\n",
    "    'filtering': [{\n",
    "        'field': 'campaign.name',\n",
    "        'operator': 'CONTAIN',\n",
    "        'value': 'Webinar'\n",
    "    },\n",
    "    {\n",
    "        'field': 'objective',\n",
    "        'operator': 'CONTAIN',\n",
    "        'value': 'EVENT_RESPONSES'\n",
    "    }]\n",
    "}\n",
    "\n",
    "job = ad_account.get_insights(params=params, async=True)\n",
    "job.remote_read()\n",
    "print(job)"
   ]
  },
  {
   "cell_type": "code",
   "execution_count": 94,
   "metadata": {
    "collapsed": false
   },
   "outputs": [
    {
     "name": "stdout",
     "output_type": "stream",
     "text": [
      "<AdReportRun> {\n",
      "    \"account_id\": \"755212577884468\",\n",
      "    \"async_percent_completion\": 100,\n",
      "    \"async_status\": \"Job Completed\",\n",
      "    \"id\": \"6053174580467\",\n",
      "    \"is_running\": true,\n",
      "    \"report_run_id\": \"6053174580467\",\n",
      "    \"time_completed\": 1477075209,\n",
      "    \"time_ref\": 1477075208\n",
      "}\n"
     ]
    }
   ],
   "source": [
    "job.remote_read()\n",
    "print(job)"
   ]
  },
  {
   "cell_type": "code",
   "execution_count": 95,
   "metadata": {
    "collapsed": false
   },
   "outputs": [
    {
     "name": "stdout",
     "output_type": "stream",
     "text": [
      "[<AdsInsights> {\n",
      "    \"account_id\": \"755212577884468\",\n",
      "    \"date_start\": \"2016-09-22\",\n",
      "    \"date_stop\": \"2016-10-21\",\n",
      "    \"impressions\": \"67459\",\n",
      "    \"spend\": \"369.79\"\n",
      "}]\n"
     ]
    }
   ],
   "source": [
    "print(job.get_result())"
   ]
  },
  {
   "cell_type": "code",
   "execution_count": null,
   "metadata": {
    "collapsed": true
   },
   "outputs": [],
   "source": []
  }
 ],
 "metadata": {
  "kernelspec": {
   "display_name": "Python 3",
   "language": "python",
   "name": "python3"
  },
  "language_info": {
   "codemirror_mode": {
    "name": "ipython",
    "version": 3
   },
   "file_extension": ".py",
   "mimetype": "text/x-python",
   "name": "python",
   "nbconvert_exporter": "python",
   "pygments_lexer": "ipython3",
   "version": "3.5.2"
  }
 },
 "nbformat": 4,
 "nbformat_minor": 1
}
